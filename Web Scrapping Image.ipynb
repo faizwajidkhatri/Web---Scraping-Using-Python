{
 "cells": [
  {
   "cell_type": "code",
   "execution_count": null,
   "id": "b6af9ddf",
   "metadata": {},
   "outputs": [],
   "source": [
    "from bs4 import BeautifulSoup\n",
    "import requests"
   ]
  },
  {
   "cell_type": "code",
   "execution_count": null,
   "id": "addd2f50",
   "metadata": {},
   "outputs": [],
   "source": [
    "page = requests.get('https://in.pinterest.com/ashkmitch/sunflower-pictures/')\n",
    "souped = BeautifulSoup(page.content, 'html.parser')\n",
    "print(souped)"
   ]
  },
  {
   "cell_type": "code",
   "execution_count": null,
   "id": "ab938f71",
   "metadata": {},
   "outputs": [],
   "source": [
    "imgs = souped.find_all('img')\n",
    "imgs = imgs\n",
    "print(imgs)"
   ]
  },
  {
   "cell_type": "code",
   "execution_count": null,
   "id": "7dbdb8d5",
   "metadata": {},
   "outputs": [],
   "source": [
    "for img in imgs:\n",
    "    imglink = img.attrs.get('src')\n",
    "    image = requests.get(imglink).content\n",
    "    filename = r'sunflower_images' + imglink[imglink.rfind('/'):]\n",
    "    with open(filename, 'wb') as file:\n",
    "        file.write(image)"
   ]
  }
 ],
 "metadata": {
  "kernelspec": {
   "display_name": "Python 3 (ipykernel)",
   "language": "python",
   "name": "python3"
  },
  "language_info": {
   "codemirror_mode": {
    "name": "ipython",
    "version": 3
   },
   "file_extension": ".py",
   "mimetype": "text/x-python",
   "name": "python",
   "nbconvert_exporter": "python",
   "pygments_lexer": "ipython3",
   "version": "3.9.7"
  }
 },
 "nbformat": 4,
 "nbformat_minor": 5
}
