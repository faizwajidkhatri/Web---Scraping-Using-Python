{
 "cells": [
  {
   "cell_type": "code",
   "execution_count": 2,
   "metadata": {
    "executionInfo": {
     "elapsed": 38,
     "status": "ok",
     "timestamp": 1645618901513,
     "user": {
      "displayName": "Nikita Tandel",
      "photoUrl": "https://lh3.googleusercontent.com/a-/AOh14GjIDyEYhnyst7joZDit6L8PH57wS1nRyTd09gHx=s64",
      "userId": "13201249445825337206"
     },
     "user_tz": -330
    },
    "id": "QtGA4zzOh0Gg"
   },
   "outputs": [],
   "source": [
    "import requests\n",
    "from bs4 import BeautifulSoup"
   ]
  },
  {
   "cell_type": "code",
   "execution_count": 9,
   "metadata": {
    "colab": {
     "base_uri": "https://localhost:8080/"
    },
    "executionInfo": {
     "elapsed": 1083,
     "status": "ok",
     "timestamp": 1645618918174,
     "user": {
      "displayName": "Nikita Tandel",
      "photoUrl": "https://lh3.googleusercontent.com/a-/AOh14GjIDyEYhnyst7joZDit6L8PH57wS1nRyTd09gHx=s64",
      "userId": "13201249445825337206"
     },
     "user_tz": -330
    },
    "id": "TQ9ZTLygh0Gl",
    "outputId": "23f0a8e7-a1cc-421b-e07a-d5f3912a2f5e"
   },
   "outputs": [
    {
     "name": "stdout",
     "output_type": "stream",
     "text": [
      "<div class=\"tombstone-container\">\n",
      " <p class=\"period-name\">\n",
      "  Overnight\n",
      "  <br/>\n",
      "  <br/>\n",
      " </p>\n",
      " <p>\n",
      "  <img alt=\"Overnight: Mostly clear, with a low around 40. Southeast wind 3 to 6 mph. \" class=\"forecast-icon\" src=\"newimages/medium/nfew.png\" title=\"Overnight: Mostly clear, with a low around 40. Southeast wind 3 to 6 mph. \"/>\n",
      " </p>\n",
      " <p class=\"short-desc\">\n",
      "  Mostly Clear\n",
      " </p>\n",
      " <p class=\"temp temp-low\">\n",
      "  Low: 40 °F\n",
      " </p>\n",
      "</div>\n"
     ]
    }
   ],
   "source": [
    "#creating the object to hold to page source content\n",
    "page = requests.get(\"http://forecast.weather.gov/MapClick.php?lat=37.7772&lon=-122.4168\")\n",
    "#print(page)\n",
    "\n",
    "#creating an object to store the page source in proper html format\n",
    "soup = BeautifulSoup(page.content, 'html.parser')\n",
    "#print(soup)\n",
    "\n",
    "#storing page source belonging to a prticular id tag on the page\n",
    "seven_day = soup.find(id=\"seven-day-forecast\")\n",
    "#print(seven_day)\n",
    "\n",
    "#finding all instances of a particular class tag within the id and storing it to object\n",
    "forecast_items = seven_day.find_all(class_=\"tombstone-container\")\n",
    "#print(forecast_items)\n",
    "\n",
    "tonight = forecast_items[0]\n",
    "print(tonight.prettify())\n"
   ]
  },
  {
   "cell_type": "code",
   "execution_count": 10,
   "metadata": {
    "colab": {
     "base_uri": "https://localhost:8080/"
    },
    "executionInfo": {
     "elapsed": 436,
     "status": "ok",
     "timestamp": 1645618952631,
     "user": {
      "displayName": "Nikita Tandel",
      "photoUrl": "https://lh3.googleusercontent.com/a-/AOh14GjIDyEYhnyst7joZDit6L8PH57wS1nRyTd09gHx=s64",
      "userId": "13201249445825337206"
     },
     "user_tz": -330
    },
    "id": "dYVcnHD0h0Gn",
    "outputId": "5a79bda8-66e1-4063-eba4-9cea74ddf741"
   },
   "outputs": [
    {
     "name": "stdout",
     "output_type": "stream",
     "text": [
      "Overnight\n",
      "Mostly Clear\n",
      "Low: 40 °F\n"
     ]
    }
   ],
   "source": [
    "#extracting the values of sub tags\n",
    "period = tonight.find(class_=\"period-name\").get_text()\n",
    "short_desc = tonight.find(class_=\"short-desc\").get_text()\n",
    "temp = tonight.find(class_=\"temp temp-low\").get_text()\n",
    "\n",
    "print(period)\n",
    "print(short_desc)\n",
    "print(temp)"
   ]
  },
  {
   "cell_type": "code",
   "execution_count": 11,
   "metadata": {
    "colab": {
     "base_uri": "https://localhost:8080/"
    },
    "executionInfo": {
     "elapsed": 383,
     "status": "ok",
     "timestamp": 1645618956849,
     "user": {
      "displayName": "Nikita Tandel",
      "photoUrl": "https://lh3.googleusercontent.com/a-/AOh14GjIDyEYhnyst7joZDit6L8PH57wS1nRyTd09gHx=s64",
      "userId": "13201249445825337206"
     },
     "user_tz": -330
    },
    "id": "KzwlRXHNh0Gq",
    "outputId": "5839d85d-2865-45e1-e94d-7d10ee9ebc88"
   },
   "outputs": [
    {
     "name": "stdout",
     "output_type": "stream",
     "text": [
      "Overnight: Mostly clear, with a low around 40. Southeast wind 3 to 6 mph. \n"
     ]
    }
   ],
   "source": [
    "#extracting the title part of the img tag\n",
    "img = tonight.find(\"img\")\n",
    "desc = img['title']\n",
    "\n",
    "print(desc)"
   ]
  },
  {
   "cell_type": "code",
   "execution_count": 12,
   "metadata": {
    "colab": {
     "base_uri": "https://localhost:8080/"
    },
    "executionInfo": {
     "elapsed": 366,
     "status": "ok",
     "timestamp": 1645618960762,
     "user": {
      "displayName": "Nikita Tandel",
      "photoUrl": "https://lh3.googleusercontent.com/a-/AOh14GjIDyEYhnyst7joZDit6L8PH57wS1nRyTd09gHx=s64",
      "userId": "13201249445825337206"
     },
     "user_tz": -330
    },
    "id": "_FqyADHOh0Gq",
    "outputId": "bddda1e0-6433-4884-c2f9-d03670c42787"
   },
   "outputs": [
    {
     "name": "stdout",
     "output_type": "stream",
     "text": [
      "['Overnight', 'Thursday', 'ThursdayNight', 'Friday', 'FridayNight', 'Saturday', 'SaturdayNight', 'Sunday', 'SundayNight']\n"
     ]
    }
   ],
   "source": [
    "#extracting all values for the period tag from the entire object\n",
    "period_tags = seven_day.select(\".tombstone-container .period-name\")\n",
    "periods = [pt.get_text() for pt in period_tags]\n",
    "print(periods)"
   ]
  },
  {
   "cell_type": "code",
   "execution_count": 13,
   "metadata": {
    "colab": {
     "base_uri": "https://localhost:8080/"
    },
    "executionInfo": {
     "elapsed": 376,
     "status": "ok",
     "timestamp": 1645618978634,
     "user": {
      "displayName": "Nikita Tandel",
      "photoUrl": "https://lh3.googleusercontent.com/a-/AOh14GjIDyEYhnyst7joZDit6L8PH57wS1nRyTd09gHx=s64",
      "userId": "13201249445825337206"
     },
     "user_tz": -330
    },
    "id": "Anfs6kb1h0Gr",
    "outputId": "0bc50165-5e65-4770-94cc-22dea73b8927"
   },
   "outputs": [
    {
     "name": "stdout",
     "output_type": "stream",
     "text": [
      "['Mostly Clear', 'Sunny', 'Mostly Clear', 'Sunny', 'Mostly Clear', 'Mostly Sunny', 'Slight ChanceRain', 'Chance Rain', 'Slight ChanceRain']\n",
      "\n",
      "['Low: 40 °F', 'High: 56 °F', 'Low: 40 °F', 'High: 60 °F', 'Low: 42 °F', 'High: 64 °F', 'Low: 47 °F', 'High: 63 °F', 'Low: 48 °F']\n",
      "\n",
      "['Overnight: Mostly clear, with a low around 40. Southeast wind 3 to 6 mph. ', 'Thursday: Sunny, with a high near 56. Light and variable wind becoming west 9 to 14 mph in the afternoon. ', 'Thursday Night: Mostly clear, with a low around 40. West wind 6 to 11 mph becoming light north northwest  after midnight. ', 'Friday: Sunny, with a high near 60. Calm wind becoming west northwest 5 to 7 mph in the afternoon. ', 'Friday Night: Mostly clear, with a low around 42. West northwest wind 5 to 8 mph becoming calm  in the evening. ', 'Saturday: Mostly sunny, with a high near 64.', 'Saturday Night: A 20 percent chance of rain after 10pm.  Mostly cloudy, with a low around 47.', 'Sunday: A chance of rain.  Partly sunny, with a high near 63.', 'Sunday Night: A slight chance of rain.  Partly cloudy, with a low around 48.']\n"
     ]
    }
   ],
   "source": [
    "#similarly extracting the other tags also from the entire object\n",
    "short_descs = [sd.get_text() for sd in seven_day.select(\".tombstone-container .short-desc\")]\n",
    "temps = [t.get_text() for t in seven_day.select(\".tombstone-container .temp\")]\n",
    "descs = [d[\"title\"] for d in seven_day.select(\".tombstone-container img\")]\n",
    "print(short_descs)\n",
    "print()\n",
    "print(temps)\n",
    "print()\n",
    "print(descs)\n"
   ]
  },
  {
   "cell_type": "code",
   "execution_count": 14,
   "metadata": {
    "colab": {
     "base_uri": "https://localhost:8080/",
     "height": 331
    },
    "collapsed": true,
    "executionInfo": {
     "elapsed": 407,
     "status": "ok",
     "timestamp": 1645618986689,
     "user": {
      "displayName": "Nikita Tandel",
      "photoUrl": "https://lh3.googleusercontent.com/a-/AOh14GjIDyEYhnyst7joZDit6L8PH57wS1nRyTd09gHx=s64",
      "userId": "13201249445825337206"
     },
     "user_tz": -330
    },
    "id": "Qu7pvUD5h0Gs",
    "outputId": "df48d26e-21f2-4f67-8988-14e4547b8e78"
   },
   "outputs": [
    {
     "data": {
      "text/html": [
       "<div>\n",
       "<style scoped>\n",
       "    .dataframe tbody tr th:only-of-type {\n",
       "        vertical-align: middle;\n",
       "    }\n",
       "\n",
       "    .dataframe tbody tr th {\n",
       "        vertical-align: top;\n",
       "    }\n",
       "\n",
       "    .dataframe thead th {\n",
       "        text-align: right;\n",
       "    }\n",
       "</style>\n",
       "<table border=\"1\" class=\"dataframe\">\n",
       "  <thead>\n",
       "    <tr style=\"text-align: right;\">\n",
       "      <th></th>\n",
       "      <th>period</th>\n",
       "      <th>short_desc</th>\n",
       "      <th>temp</th>\n",
       "      <th>desc</th>\n",
       "    </tr>\n",
       "  </thead>\n",
       "  <tbody>\n",
       "    <tr>\n",
       "      <th>0</th>\n",
       "      <td>Overnight</td>\n",
       "      <td>Mostly Clear</td>\n",
       "      <td>Low: 40 °F</td>\n",
       "      <td>Overnight: Mostly clear, with a low around 40....</td>\n",
       "    </tr>\n",
       "    <tr>\n",
       "      <th>1</th>\n",
       "      <td>Thursday</td>\n",
       "      <td>Sunny</td>\n",
       "      <td>High: 56 °F</td>\n",
       "      <td>Thursday: Sunny, with a high near 56. Light an...</td>\n",
       "    </tr>\n",
       "    <tr>\n",
       "      <th>2</th>\n",
       "      <td>ThursdayNight</td>\n",
       "      <td>Mostly Clear</td>\n",
       "      <td>Low: 40 °F</td>\n",
       "      <td>Thursday Night: Mostly clear, with a low aroun...</td>\n",
       "    </tr>\n",
       "    <tr>\n",
       "      <th>3</th>\n",
       "      <td>Friday</td>\n",
       "      <td>Sunny</td>\n",
       "      <td>High: 60 °F</td>\n",
       "      <td>Friday: Sunny, with a high near 60. Calm wind ...</td>\n",
       "    </tr>\n",
       "    <tr>\n",
       "      <th>4</th>\n",
       "      <td>FridayNight</td>\n",
       "      <td>Mostly Clear</td>\n",
       "      <td>Low: 42 °F</td>\n",
       "      <td>Friday Night: Mostly clear, with a low around ...</td>\n",
       "    </tr>\n",
       "    <tr>\n",
       "      <th>5</th>\n",
       "      <td>Saturday</td>\n",
       "      <td>Mostly Sunny</td>\n",
       "      <td>High: 64 °F</td>\n",
       "      <td>Saturday: Mostly sunny, with a high near 64.</td>\n",
       "    </tr>\n",
       "    <tr>\n",
       "      <th>6</th>\n",
       "      <td>SaturdayNight</td>\n",
       "      <td>Slight ChanceRain</td>\n",
       "      <td>Low: 47 °F</td>\n",
       "      <td>Saturday Night: A 20 percent chance of rain af...</td>\n",
       "    </tr>\n",
       "    <tr>\n",
       "      <th>7</th>\n",
       "      <td>Sunday</td>\n",
       "      <td>Chance Rain</td>\n",
       "      <td>High: 63 °F</td>\n",
       "      <td>Sunday: A chance of rain.  Partly sunny, with ...</td>\n",
       "    </tr>\n",
       "    <tr>\n",
       "      <th>8</th>\n",
       "      <td>SundayNight</td>\n",
       "      <td>Slight ChanceRain</td>\n",
       "      <td>Low: 48 °F</td>\n",
       "      <td>Sunday Night: A slight chance of rain.  Partly...</td>\n",
       "    </tr>\n",
       "  </tbody>\n",
       "</table>\n",
       "</div>"
      ],
      "text/plain": [
       "          period         short_desc         temp  \\\n",
       "0      Overnight       Mostly Clear   Low: 40 °F   \n",
       "1       Thursday              Sunny  High: 56 °F   \n",
       "2  ThursdayNight       Mostly Clear   Low: 40 °F   \n",
       "3         Friday              Sunny  High: 60 °F   \n",
       "4    FridayNight       Mostly Clear   Low: 42 °F   \n",
       "5       Saturday       Mostly Sunny  High: 64 °F   \n",
       "6  SaturdayNight  Slight ChanceRain   Low: 47 °F   \n",
       "7         Sunday        Chance Rain  High: 63 °F   \n",
       "8    SundayNight  Slight ChanceRain   Low: 48 °F   \n",
       "\n",
       "                                                desc  \n",
       "0  Overnight: Mostly clear, with a low around 40....  \n",
       "1  Thursday: Sunny, with a high near 56. Light an...  \n",
       "2  Thursday Night: Mostly clear, with a low aroun...  \n",
       "3  Friday: Sunny, with a high near 60. Calm wind ...  \n",
       "4  Friday Night: Mostly clear, with a low around ...  \n",
       "5       Saturday: Mostly sunny, with a high near 64.  \n",
       "6  Saturday Night: A 20 percent chance of rain af...  \n",
       "7  Sunday: A chance of rain.  Partly sunny, with ...  \n",
       "8  Sunday Night: A slight chance of rain.  Partly...  "
      ]
     },
     "execution_count": 14,
     "metadata": {},
     "output_type": "execute_result"
    }
   ],
   "source": [
    "#combining all tags and creating a dataframe out of it\n",
    "import pandas as pd\n",
    "weather = pd.DataFrame({\n",
    "        \"period\": periods,\n",
    "         \"short_desc\": short_descs,\n",
    "         \"temp\": temps,\n",
    "         \"desc\":descs\n",
    "    })\n",
    "weather"
   ]
  },
  {
   "cell_type": "code",
   "execution_count": 15,
   "metadata": {
    "colab": {
     "base_uri": "https://localhost:8080/"
    },
    "executionInfo": {
     "elapsed": 2349,
     "status": "ok",
     "timestamp": 1645618996514,
     "user": {
      "displayName": "Nikita Tandel",
      "photoUrl": "https://lh3.googleusercontent.com/a-/AOh14GjIDyEYhnyst7joZDit6L8PH57wS1nRyTd09gHx=s64",
      "userId": "13201249445825337206"
     },
     "user_tz": -330
    },
    "id": "FoccenK-h0Gt",
    "outputId": "8a92f12f-6c62-478e-9e14-3ef37030cb7d"
   },
   "outputs": [
    {
     "name": "stdout",
     "output_type": "stream",
     "text": [
      "                0                                                  1\n",
      "0       Overnight  Mostly clear, with a low around 40. Southeast ...\n",
      "1        Thursday  Sunny, with a high near 56. Light and variable...\n",
      "2  Thursday Night  Mostly clear, with a low around 40. West wind ...\n",
      "3          Friday  Sunny, with a high near 60. Calm wind becoming...\n",
      "4    Friday Night  Mostly clear, with a low around 42. West north...\n",
      "5        Saturday                 Mostly sunny, with a high near 64.\n",
      "6  Saturday Night  A 20 percent chance of rain after 10pm.  Mostl...\n",
      "7          Sunday  A chance of rain.  Partly sunny, with a high n...\n",
      "8    Sunday Night  A slight chance of rain.  Partly cloudy, with ...\n"
     ]
    }
   ],
   "source": [
    "#desc has the text that contains the value of period also\n",
    "#trying to split the desc string such that the period part is removed\n",
    "new = weather[\"desc\"].str.split(\": \",expand=True) \n",
    "print(new)"
   ]
  },
  {
   "cell_type": "code",
   "execution_count": 16,
   "metadata": {
    "executionInfo": {
     "elapsed": 416,
     "status": "ok",
     "timestamp": 1645619002579,
     "user": {
      "displayName": "Nikita Tandel",
      "photoUrl": "https://lh3.googleusercontent.com/a-/AOh14GjIDyEYhnyst7joZDit6L8PH57wS1nRyTd09gHx=s64",
      "userId": "13201249445825337206"
     },
     "user_tz": -330
    },
    "id": "XQb8XYc4h0Gu"
   },
   "outputs": [],
   "source": [
    "#fetching the other part and replacing the desc variable \n",
    "weather[\"desc\"]=new[1]"
   ]
  },
  {
   "cell_type": "code",
   "execution_count": 11,
   "metadata": {
    "colab": {
     "base_uri": "https://localhost:8080/",
     "height": 331
    },
    "executionInfo": {
     "elapsed": 386,
     "status": "ok",
     "timestamp": 1645619007096,
     "user": {
      "displayName": "Nikita Tandel",
      "photoUrl": "https://lh3.googleusercontent.com/a-/AOh14GjIDyEYhnyst7joZDit6L8PH57wS1nRyTd09gHx=s64",
      "userId": "13201249445825337206"
     },
     "user_tz": -330
    },
    "id": "11w8NUFEh0Gv",
    "outputId": "807c29f5-6d45-45d2-8be7-715a062b32f0",
    "scrolled": true
   },
   "outputs": [
    {
     "data": {
      "text/html": [
       "\n",
       "  <div id=\"df-aa66e48b-ba7a-4151-85d8-6e7152a0e1ac\">\n",
       "    <div class=\"colab-df-container\">\n",
       "      <div>\n",
       "<style scoped>\n",
       "    .dataframe tbody tr th:only-of-type {\n",
       "        vertical-align: middle;\n",
       "    }\n",
       "\n",
       "    .dataframe tbody tr th {\n",
       "        vertical-align: top;\n",
       "    }\n",
       "\n",
       "    .dataframe thead th {\n",
       "        text-align: right;\n",
       "    }\n",
       "</style>\n",
       "<table border=\"1\" class=\"dataframe\">\n",
       "  <thead>\n",
       "    <tr style=\"text-align: right;\">\n",
       "      <th></th>\n",
       "      <th>period</th>\n",
       "      <th>short_desc</th>\n",
       "      <th>temp</th>\n",
       "      <th>desc</th>\n",
       "    </tr>\n",
       "  </thead>\n",
       "  <tbody>\n",
       "    <tr>\n",
       "      <th>0</th>\n",
       "      <td>Today</td>\n",
       "      <td>Sunny</td>\n",
       "      <td>High: 56 °F</td>\n",
       "      <td>Sunny, with a high near 56. North wind 9 to 17...</td>\n",
       "    </tr>\n",
       "    <tr>\n",
       "      <th>1</th>\n",
       "      <td>Tonight</td>\n",
       "      <td>Clear</td>\n",
       "      <td>Low: 40 °F</td>\n",
       "      <td>Clear, with a low around 40. North northwest w...</td>\n",
       "    </tr>\n",
       "    <tr>\n",
       "      <th>2</th>\n",
       "      <td>Thursday</td>\n",
       "      <td>Sunny</td>\n",
       "      <td>High: 57 °F</td>\n",
       "      <td>Sunny, with a high near 57. Light and variable...</td>\n",
       "    </tr>\n",
       "    <tr>\n",
       "      <th>3</th>\n",
       "      <td>ThursdayNight</td>\n",
       "      <td>Mostly Clear</td>\n",
       "      <td>Low: 40 °F</td>\n",
       "      <td>Mostly clear, with a low around 40. West north...</td>\n",
       "    </tr>\n",
       "    <tr>\n",
       "      <th>4</th>\n",
       "      <td>Friday</td>\n",
       "      <td>Sunny</td>\n",
       "      <td>High: 60 °F</td>\n",
       "      <td>Sunny, with a high near 60. Calm wind becoming...</td>\n",
       "    </tr>\n",
       "    <tr>\n",
       "      <th>5</th>\n",
       "      <td>FridayNight</td>\n",
       "      <td>Mostly Clear</td>\n",
       "      <td>Low: 42 °F</td>\n",
       "      <td>Mostly clear, with a low around 42.</td>\n",
       "    </tr>\n",
       "    <tr>\n",
       "      <th>6</th>\n",
       "      <td>Saturday</td>\n",
       "      <td>Mostly Sunny</td>\n",
       "      <td>High: 63 °F</td>\n",
       "      <td>Mostly sunny, with a high near 63.</td>\n",
       "    </tr>\n",
       "    <tr>\n",
       "      <th>7</th>\n",
       "      <td>SaturdayNight</td>\n",
       "      <td>Slight ChanceRain</td>\n",
       "      <td>Low: 48 °F</td>\n",
       "      <td>A slight chance of rain after 10pm.  Mostly cl...</td>\n",
       "    </tr>\n",
       "    <tr>\n",
       "      <th>8</th>\n",
       "      <td>Sunday</td>\n",
       "      <td>Chance Rain</td>\n",
       "      <td>High: 63 °F</td>\n",
       "      <td>A chance of rain.  Mostly cloudy, with a high ...</td>\n",
       "    </tr>\n",
       "  </tbody>\n",
       "</table>\n",
       "</div>\n",
       "      <button class=\"colab-df-convert\" onclick=\"convertToInteractive('df-aa66e48b-ba7a-4151-85d8-6e7152a0e1ac')\"\n",
       "              title=\"Convert this dataframe to an interactive table.\"\n",
       "              style=\"display:none;\">\n",
       "        \n",
       "  <svg xmlns=\"http://www.w3.org/2000/svg\" height=\"24px\"viewBox=\"0 0 24 24\"\n",
       "       width=\"24px\">\n",
       "    <path d=\"M0 0h24v24H0V0z\" fill=\"none\"/>\n",
       "    <path d=\"M18.56 5.44l.94 2.06.94-2.06 2.06-.94-2.06-.94-.94-2.06-.94 2.06-2.06.94zm-11 1L8.5 8.5l.94-2.06 2.06-.94-2.06-.94L8.5 2.5l-.94 2.06-2.06.94zm10 10l.94 2.06.94-2.06 2.06-.94-2.06-.94-.94-2.06-.94 2.06-2.06.94z\"/><path d=\"M17.41 7.96l-1.37-1.37c-.4-.4-.92-.59-1.43-.59-.52 0-1.04.2-1.43.59L10.3 9.45l-7.72 7.72c-.78.78-.78 2.05 0 2.83L4 21.41c.39.39.9.59 1.41.59.51 0 1.02-.2 1.41-.59l7.78-7.78 2.81-2.81c.8-.78.8-2.07 0-2.86zM5.41 20L4 18.59l7.72-7.72 1.47 1.35L5.41 20z\"/>\n",
       "  </svg>\n",
       "      </button>\n",
       "      \n",
       "  <style>\n",
       "    .colab-df-container {\n",
       "      display:flex;\n",
       "      flex-wrap:wrap;\n",
       "      gap: 12px;\n",
       "    }\n",
       "\n",
       "    .colab-df-convert {\n",
       "      background-color: #E8F0FE;\n",
       "      border: none;\n",
       "      border-radius: 50%;\n",
       "      cursor: pointer;\n",
       "      display: none;\n",
       "      fill: #1967D2;\n",
       "      height: 32px;\n",
       "      padding: 0 0 0 0;\n",
       "      width: 32px;\n",
       "    }\n",
       "\n",
       "    .colab-df-convert:hover {\n",
       "      background-color: #E2EBFA;\n",
       "      box-shadow: 0px 1px 2px rgba(60, 64, 67, 0.3), 0px 1px 3px 1px rgba(60, 64, 67, 0.15);\n",
       "      fill: #174EA6;\n",
       "    }\n",
       "\n",
       "    [theme=dark] .colab-df-convert {\n",
       "      background-color: #3B4455;\n",
       "      fill: #D2E3FC;\n",
       "    }\n",
       "\n",
       "    [theme=dark] .colab-df-convert:hover {\n",
       "      background-color: #434B5C;\n",
       "      box-shadow: 0px 1px 3px 1px rgba(0, 0, 0, 0.15);\n",
       "      filter: drop-shadow(0px 1px 2px rgba(0, 0, 0, 0.3));\n",
       "      fill: #FFFFFF;\n",
       "    }\n",
       "  </style>\n",
       "\n",
       "      <script>\n",
       "        const buttonEl =\n",
       "          document.querySelector('#df-aa66e48b-ba7a-4151-85d8-6e7152a0e1ac button.colab-df-convert');\n",
       "        buttonEl.style.display =\n",
       "          google.colab.kernel.accessAllowed ? 'block' : 'none';\n",
       "\n",
       "        async function convertToInteractive(key) {\n",
       "          const element = document.querySelector('#df-aa66e48b-ba7a-4151-85d8-6e7152a0e1ac');\n",
       "          const dataTable =\n",
       "            await google.colab.kernel.invokeFunction('convertToInteractive',\n",
       "                                                     [key], {});\n",
       "          if (!dataTable) return;\n",
       "\n",
       "          const docLinkHtml = 'Like what you see? Visit the ' +\n",
       "            '<a target=\"_blank\" href=https://colab.research.google.com/notebooks/data_table.ipynb>data table notebook</a>'\n",
       "            + ' to learn more about interactive tables.';\n",
       "          element.innerHTML = '';\n",
       "          dataTable['output_type'] = 'display_data';\n",
       "          await google.colab.output.renderOutput(dataTable, element);\n",
       "          const docLink = document.createElement('div');\n",
       "          docLink.innerHTML = docLinkHtml;\n",
       "          element.appendChild(docLink);\n",
       "        }\n",
       "      </script>\n",
       "    </div>\n",
       "  </div>\n",
       "  "
      ],
      "text/plain": [
       "          period  ...                                               desc\n",
       "0          Today  ...  Sunny, with a high near 56. North wind 9 to 17...\n",
       "1        Tonight  ...  Clear, with a low around 40. North northwest w...\n",
       "2       Thursday  ...  Sunny, with a high near 57. Light and variable...\n",
       "3  ThursdayNight  ...  Mostly clear, with a low around 40. West north...\n",
       "4         Friday  ...  Sunny, with a high near 60. Calm wind becoming...\n",
       "5    FridayNight  ...                Mostly clear, with a low around 42.\n",
       "6       Saturday  ...                 Mostly sunny, with a high near 63.\n",
       "7  SaturdayNight  ...  A slight chance of rain after 10pm.  Mostly cl...\n",
       "8         Sunday  ...  A chance of rain.  Mostly cloudy, with a high ...\n",
       "\n",
       "[9 rows x 4 columns]"
      ]
     },
     "execution_count": 11,
     "metadata": {},
     "output_type": "execute_result"
    }
   ],
   "source": [
    "#updated dataframe\n",
    "weather"
   ]
  },
  {
   "cell_type": "code",
   "execution_count": 12,
   "metadata": {
    "executionInfo": {
     "elapsed": 371,
     "status": "ok",
     "timestamp": 1645619011415,
     "user": {
      "displayName": "Nikita Tandel",
      "photoUrl": "https://lh3.googleusercontent.com/a-/AOh14GjIDyEYhnyst7joZDit6L8PH57wS1nRyTd09gHx=s64",
      "userId": "13201249445825337206"
     },
     "user_tz": -330
    },
    "id": "fz07f_uCh0Gw"
   },
   "outputs": [],
   "source": [
    "weather.to_excel(\"weather_details.xlsx\",header=True)"
   ]
  },
  {
   "cell_type": "code",
   "execution_count": null,
   "metadata": {
    "id": "bD08BNHvh0Gx"
   },
   "outputs": [],
   "source": []
  },
  {
   "cell_type": "code",
   "execution_count": null,
   "metadata": {
    "id": "4_Eb9oJEh0Gy"
   },
   "outputs": [],
   "source": []
  },
  {
   "cell_type": "code",
   "execution_count": null,
   "metadata": {
    "id": "XaJWKGQIh0Gy"
   },
   "outputs": [],
   "source": []
  },
  {
   "cell_type": "code",
   "execution_count": null,
   "metadata": {
    "id": "6WPpW1wBh0Gz"
   },
   "outputs": [],
   "source": []
  },
  {
   "cell_type": "code",
   "execution_count": null,
   "metadata": {
    "id": "Lx9i0PO-h0Gz"
   },
   "outputs": [],
   "source": [
    "#https://www.dataquest.io/blog/web-scraping-tutorial-python/"
   ]
  }
 ],
 "metadata": {
  "colab": {
   "name": "Web scrapping.ipynb",
   "provenance": []
  },
  "kernelspec": {
   "display_name": "Python 3",
   "language": "python",
   "name": "python3"
  },
  "language_info": {
   "codemirror_mode": {
    "name": "ipython",
    "version": 3
   },
   "file_extension": ".py",
   "mimetype": "text/x-python",
   "name": "python",
   "nbconvert_exporter": "python",
   "pygments_lexer": "ipython3",
   "version": "3.8.3"
  }
 },
 "nbformat": 4,
 "nbformat_minor": 1
}
